{
 "cells": [
  {
   "cell_type": "code",
   "execution_count": 5,
   "metadata": {},
   "outputs": [],
   "source": [
    "import numpy as np\n",
    "from reconstruction import epipolar\n",
    "from scipy import interpolate, linalg\n",
    "from tools import util\n",
    "import cv2\n",
    "def sync_iter(fps1, fps2, detect1, detect2, frame1, frame2, maxIter=200, threshold=10, step=10, p_min=0, p_max=6, verbose=False):\n",
    "    '''\n",
    "    This function is a modified implementation of the Iterative Algorithm from the following paper \n",
    "\n",
    "    >>> Albl, Cenek, et al. \"On the two-view geometry of unsynchronized cameras.\" Proceedings of the IEEE Conference on Computer Vision and Pattern Recognition. 2017.\n",
    "    \n",
    "    The function returns both the estimated time shift (beta) and the according ratio of inliers, which can be considered as scoring\n",
    "    '''\n",
    "\n",
    "\n",
    "    def solver(s1,s2,ds,d):\n",
    "        '''\n",
    "        This function reads data of 9 points and return a list of possible solution for Beta and F\n",
    "        '''\n",
    "\n",
    "        # Create design matrices A1, A2\n",
    "        A1 = np.array([s1[0]*s2[0],s1[0]*s2[1],s1[0], s1[1]*s2[0],s1[1]*s2[1],s1[1], s2[0],s2[1],np.ones(9)]).T\n",
    "        A2 = np.array([s1[0]*ds[0],s1[0]*ds[1],np.zeros(9), s1[1]*ds[0],s1[1]*ds[1],np.zeros(9), ds[0],ds[1],np.zeros(9)]).T\n",
    "        # Compute eigenvalue\n",
    "        w = -linalg.eigvals(A1,A2)\n",
    "        w[np.iscomplex(w)] = np.inf\n",
    "        betas = w.real[np.isfinite(w)]\n",
    "\n",
    "        # compute fundamental matrix F using shifted data\n",
    "        M = np.empty((0,10))\n",
    "        for beta in betas:\n",
    "            x2 = s2 + beta*ds\n",
    "            # F = ep.compute_fundamental(s1,x2)\n",
    "            F, mask = cv2.findFundamentalMat(s1[:2].T,x2[:2].T,method=cv2.FM_8POINT)\n",
    "\n",
    "            if len(np.ravel(F)) == 9:\n",
    "                M_i = np.append(np.ravel(F),np.array([beta*d]))\n",
    "                M = np.vstack((M, M_i))\n",
    "\n",
    "        return M\n",
    "\n",
    "\n",
    "    def error(M):\n",
    "        try:\n",
    "            detect2_temp = np.vstack((detect2[0]-M[-1],detect2[1:]))\n",
    "            pts1, pts2 = util.match_overlap(detect1, detect2_temp)\n",
    "            return epipolar.Sampson_error(util.homogeneous(pts1[1:]), util.homogeneous(pts2[1:]), M[:9].reshape((3,3)))\n",
    "        except:\n",
    "            return None\n",
    "\n",
    "\n",
    "    def ransac(d, maxIter, threshold):\n",
    "        InliersMax = 0\n",
    "        numSample = min(detect1.shape[1], detect2.shape[1])\n",
    "        result = np.zeros((10))\n",
    "        for i in range(maxIter):\n",
    "            sampleIdx = np.random.choice(np.arange(numSample-2*abs(d)), size=9, replace=False)\n",
    "            timestamp = detect2[0,sampleIdx]\n",
    "            s1 = np.asarray(interpolate.splev(timestamp, spline1))\n",
    "            s2 = np.asarray(interpolate.splev(timestamp, spline2))\n",
    "            ds = np.asarray(interpolate.splev(timestamp+d, spline2)) - s2\n",
    "            M = solver(s1,s2,ds,d)\n",
    "            if len(M) != 0:\n",
    "                if len(M.shape)==1:\n",
    "                    M = np.expand_dims(M,axis=0)\n",
    "                for Mi in M:\n",
    "                    err = error(Mi)\n",
    "                    if err is not None:\n",
    "                        numInliers = np.sum(err<threshold) / len(err)\n",
    "                        if numInliers > InliersMax:\n",
    "                            result = Mi\n",
    "                            InliersMax = numInliers\n",
    "        return -result[-1], InliersMax\n",
    "\n",
    "\n",
    "    # Pre-processing\n",
    "    alpha = fps1 / fps2\n",
    "    beta_prior = frame1/alpha - frame2\n",
    "    detect1_ori, detect2_ori = detect1, detect2\n",
    "    detect1 = np.vstack((detect1[0]/alpha,detect1[1:]))\n",
    "    detect2 = np.vstack((detect2[0]+beta_prior,detect2[1:]))\n",
    "\n",
    "    spline1, _ = interpolate.splprep(detect1[1:], u=detect1[0], s=0, k=3)\n",
    "    spline2, _ = interpolate.splprep(detect2[1:], u=detect2[0], s=0, k=3)\n",
    "\n",
    "    # The Iterative Algorithm\n",
    "    skip, maxInlier, k = 0, 0, 0\n",
    "    d, p, beta = 2**p_min, p_min, beta_prior\n",
    "\n",
    "    while k < step:\n",
    "\n",
    "        # Ransac with d\n",
    "        beta1, Inlier1 = ransac(d=d, maxIter=maxIter, threshold=threshold)\n",
    "\n",
    "        # Ransac with -d\n",
    "        beta2, Inlier2 = ransac(d=-d, maxIter=maxIter, threshold=threshold)\n",
    "\n",
    "        # Select the better one\n",
    "        beta_temp = beta1 if Inlier1 >= Inlier2 else beta2\n",
    "        Inlier = Inlier1 if Inlier1 >= Inlier2 else Inlier2\n",
    "\n",
    "        if verbose:\n",
    "            print('d:{}, beta:{:.3f}, maxInlier:{}, Inlier:{}'.format(d, (beta+beta_temp)*alpha, maxInlier, Inlier))\n",
    "\n",
    "        if skip > p_max:\n",
    "                break\n",
    "        elif Inlier < maxInlier:\n",
    "            if p < p_max:\n",
    "                p += 1\n",
    "            else:\n",
    "                p = 0\n",
    "            d = 2**p\n",
    "            skip += 1\n",
    "        else:\n",
    "            beta += beta_temp\n",
    "            maxInlier = Inlier\n",
    "            detect2 = np.vstack((detect2_ori[0]+beta,detect2_ori[1:]))\n",
    "            spline2, _ = interpolate.splprep(detect2[1:], u=detect2[0], s=0, k=3)\n",
    "            skip = 0\n",
    "            k += 1\n",
    "\n",
    "    return beta*alpha, maxInlier"
   ]
  },
  {
   "cell_type": "code",
   "execution_count": 11,
   "metadata": {},
   "outputs": [],
   "source": [
    "fps1 = 50\n",
    "fps2 = 50\n",
    "joint = 10\n",
    "detect1 = np.loadtxt('../../bodypose3d/WalkDog_55011271.dat', usecols=[0, joint*2+1, joint*2+2]).T\n",
    "detect2 = np.loadtxt('../../bodypose3d/WalkDog_58860488.dat', usecols=[0, joint*2+1, joint*2+2]).T[:, 100:]\n",
    "frame1 = 1\n",
    "frame2 = 1\n",
    "\n",
    "# p_min = 0\n",
    "# p_max =  6\n",
    "# beta_prior = 1\n",
    "# alpha = 1\n",
    "# beta_prior = frame1/alpha - frame2\n",
    "# print(beta_prior)\n",
    "# d, p, beta = 2**p_min, p_min, beta_prior"
   ]
  },
  {
   "cell_type": "code",
   "execution_count": 231,
   "metadata": {},
   "outputs": [
    {
     "data": {
      "text/plain": [
       "(2136.25087431681, 1.0)"
      ]
     },
     "execution_count": 231,
     "metadata": {},
     "output_type": "execute_result"
    }
   ],
   "source": [
    "sync_iter(fps1, fps2, detect1, detect2, frame1, frame2, maxIter=200, threshold=8, step=10, p_min=0, p_max=20, verbose=False)"
   ]
  },
  {
   "cell_type": "code",
   "execution_count": 7,
   "metadata": {},
   "outputs": [],
   "source": [
    "def sync_bf(fps1, fps2, detect1, detect2, frame1, frame2, r=5):\n",
    "    '''\n",
    "    Brute-force method for temporal synchronization of two series of detections\n",
    "\n",
    "    r is the half length of the search interval in unit second\n",
    "\n",
    "    Function returns both the time shift (beta) and the temporal overlap of the two series of detections in unit second\n",
    "    '''\n",
    "\n",
    "\n",
    "    def search(beta_list, thres=1):\n",
    "        # print(beta_list)\n",
    "        maxInlier = 0\n",
    "        beta_est = 0\n",
    "        for beta in beta_list:\n",
    "            # detection adjust with $beta frames\n",
    "            detect2_temp = np.vstack((detect2[0]+beta,detect2[1:]))\n",
    "            pts1, pts2 = util.match_overlap(detect1_temp, detect2_temp)\n",
    "\n",
    "            F, mask = cv2.findFundamentalMat(pts1[1:].T, pts2[1:].T, method=cv2.FM_RANSAC, ransacReprojThreshold=thres)\n",
    "            inlier = sum(mask.reshape(-1,)) #/ len(pts1[0])\n",
    "\n",
    "            if inlier > maxInlier:\n",
    "                maxInlier = inlier\n",
    "                beta_est = beta\n",
    "\n",
    "        return beta_est, maxInlier\n",
    "\n",
    "\n",
    "    # Pre-processing\n",
    "    alpha = fps1 / fps2\n",
    "    detect1_temp = np.vstack((detect1[0]/alpha,detect1[1:]))\n",
    "    beta_prior = frame1/alpha - frame2\n",
    "    # print(detect1_temp.shape)\n",
    "    # Two-stage search\n",
    "    beta_coarse = np.arange(beta_prior-r*fps2, beta_prior+r*fps2, fps2)\n",
    "    beta_est, _ = search(beta_coarse)\n",
    "    print(beta_est, _)\n",
    "    beta_fine = np.arange(beta_est-fps2/2, beta_est+fps2, fps2/4)\n",
    "    beta_est, numInlier  = search(beta_fine)\n",
    "    print(beta_est, numInlier)\n",
    "    beta_fine = np.arange(beta_est-fps2/2, beta_est+fps2/2, fps2/50)\n",
    "    beta_est, numInlier  = search(beta_fine)\n",
    "    \n",
    "    print(beta_est, numInlier)\n",
    "\n",
    "    # Result\n",
    "    beta = beta_est * alpha\n",
    "    overlap_second = numInlier/fps1\n",
    "\n",
    "    return beta, overlap_second"
   ]
  },
  {
   "cell_type": "code",
   "execution_count": 18,
   "metadata": {},
   "outputs": [
    {
     "name": "stdout",
     "output_type": "stream",
     "text": [
      "0.0 857\n",
      "0.0 857\n",
      "0.0 857\n"
     ]
    },
    {
     "data": {
      "text/plain": [
       "(0.0, 17.14)"
      ]
     },
     "execution_count": 18,
     "metadata": {},
     "output_type": "execute_result"
    }
   ],
   "source": [
    "time_diff = 1.33432\n",
    "detect2 = np.loadtxt('../../bodypose3d/WalkDog_58860488.dat', usecols=[0, joint*2+1, joint*2+2]).T[:, int(time_diff*fps2):]\n",
    "sync_bf(fps1, fps2, detect1, detect2, frame1, frame2, r=30)"
   ]
  },
  {
   "cell_type": "code",
   "execution_count": 15,
   "metadata": {},
   "outputs": [
    {
     "data": {
      "text/plain": [
       "array([[ 166.,  167.,  168., ..., 2235., 2236., 2237.],\n",
       "       [ 538.,  538.,  538., ...,  619.,  619.,  619.],\n",
       "       [ 576.,  576.,  576., ...,  524.,  524.,  524.]])"
      ]
     },
     "execution_count": 15,
     "metadata": {},
     "output_type": "execute_result"
    }
   ],
   "source": [
    "detect2_tmp"
   ]
  },
  {
   "cell_type": "code",
   "execution_count": 28,
   "metadata": {},
   "outputs": [
    {
     "name": "stdout",
     "output_type": "stream",
     "text": [
      "0.0 857\n",
      "0.0 857\n",
      "0.0 857\n",
      "66.716\n"
     ]
    }
   ],
   "source": [
    "import matplotlib.pyplot as plt\n",
    "inlier_list = []\n",
    "threshold = 10\n",
    "\n",
    "time_diff = 1.33432\n",
    "detect2 = np.loadtxt('../../bodypose3d/WalkDog_58860488.dat', usecols=[0, joint*2+1, joint*2+2]).T[:, int(time_diff*fps2):]\n",
    "sync_bf(fps1, fps2, detect1, detect2, frame1, frame2, r=30)\n",
    "\n",
    "print(1.33432*fps2)\n",
    "time_span = 10 * fps1\n",
    "for i in range(-time_span, time_span):\n",
    "    detect2_tmp = np.vstack((detect2[0]+i,detect2[1:]))\n",
    "    pts1, pts2 = util.match_overlap(detect1, detect2_tmp)\n",
    "    F, mask = cv2.findFundamentalMat(pts1[1:].T, pts2[1:].T, method=cv2.FM_RANSAC, ransacReprojThreshold=threshold)\n",
    "    inlier = sum(mask.reshape(-1,))\n",
    "    inlier_ratio = inlier / pts1.shape[1]\n",
    "    inlier_list.append([i, inlier, inlier_ratio])\n",
    "    # print(i, inlier)\n",
    "inlier_list = np.array(inlier_list).T"
   ]
  },
  {
   "cell_type": "code",
   "execution_count": 42,
   "metadata": {},
   "outputs": [
    {
     "data": {
      "text/plain": [
       "[<matplotlib.lines.Line2D at 0x7f7b819d5220>]"
      ]
     },
     "execution_count": 42,
     "metadata": {},
     "output_type": "execute_result"
    },
    {
     "data": {
      "image/png": "[encoded data removed]",
      "text/plain": [
       "<Figure size 640x480 with 1 Axes>"
      ]
     },
     "metadata": {},
     "output_type": "display_data"
    }
   ],
   "source": [
    "plt.xlabel('time differ')\n",
    "plt.ylabel('Percentage of inlier (%)')\n",
    "plt.plot(inlier_list[0]/fps1, inlier_list[2]*100,'g-+')"
   ]
  }
 ],
 "metadata": {
  "kernelspec": {
   "display_name": "Python 3.9.10 64-bit",
   "language": "python",
   "name": "python3"
  },
  "language_info": {
   "codemirror_mode": {
    "name": "ipython",
    "version": 3
   },
   "file_extension": ".py",
   "mimetype": "text/x-python",
   "name": "python",
   "nbconvert_exporter": "python",
   "pygments_lexer": "ipython3",
   "version": "3.9.10"
  },
  "orig_nbformat": 4,
  "vscode": {
   "interpreter": {
    "hash": "3fc9b631182148e0f4d7fa96d44effd7711db047473ac4b9b4957b85f85adbcc"
   }
  }
 },
 "nbformat": 4,
 "nbformat_minor": 2
}
